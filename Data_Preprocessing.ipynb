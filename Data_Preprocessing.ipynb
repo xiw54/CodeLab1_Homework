{
 "cells": [
  {
   "cell_type": "markdown",
   "metadata": {},
   "source": [
    "# Preprocessing Dataset & Compare with Sklearn Methods"
   ]
  },
  {
   "cell_type": "code",
   "execution_count": 8,
   "metadata": {
    "collapsed": true
   },
   "outputs": [],
   "source": [
    "import numpy as np\n",
    "import pandas as pd\n",
    "from sklearn import datasets\n",
    "from numpy import set_printoptions"
   ]
  },
  {
   "cell_type": "markdown",
   "metadata": {},
   "source": [
    "### Import Dataset from sklearn"
   ]
  },
  {
   "cell_type": "code",
   "execution_count": 19,
   "metadata": {
    "collapsed": false,
    "scrolled": true
   },
   "outputs": [
    {
     "data": {
      "text/html": [
       "<div>\n",
       "<table border=\"1\" class=\"dataframe\">\n",
       "  <thead>\n",
       "    <tr style=\"text-align: right;\">\n",
       "      <th></th>\n",
       "      <th>0</th>\n",
       "      <th>1</th>\n",
       "      <th>2</th>\n",
       "      <th>3</th>\n",
       "      <th>4</th>\n",
       "      <th>5</th>\n",
       "      <th>6</th>\n",
       "      <th>7</th>\n",
       "      <th>8</th>\n",
       "      <th>9</th>\n",
       "    </tr>\n",
       "  </thead>\n",
       "  <tbody>\n",
       "    <tr>\n",
       "      <th>count</th>\n",
       "      <td>4.420000e+02</td>\n",
       "      <td>4.420000e+02</td>\n",
       "      <td>4.420000e+02</td>\n",
       "      <td>4.420000e+02</td>\n",
       "      <td>4.420000e+02</td>\n",
       "      <td>4.420000e+02</td>\n",
       "      <td>4.420000e+02</td>\n",
       "      <td>4.420000e+02</td>\n",
       "      <td>4.420000e+02</td>\n",
       "      <td>4.420000e+02</td>\n",
       "    </tr>\n",
       "    <tr>\n",
       "      <th>mean</th>\n",
       "      <td>-3.634285e-16</td>\n",
       "      <td>1.308343e-16</td>\n",
       "      <td>-8.045349e-16</td>\n",
       "      <td>1.281655e-16</td>\n",
       "      <td>-8.835316e-17</td>\n",
       "      <td>1.327024e-16</td>\n",
       "      <td>-4.574646e-16</td>\n",
       "      <td>3.777301e-16</td>\n",
       "      <td>-3.830854e-16</td>\n",
       "      <td>-3.412882e-16</td>\n",
       "    </tr>\n",
       "    <tr>\n",
       "      <th>std</th>\n",
       "      <td>4.761905e-02</td>\n",
       "      <td>4.761905e-02</td>\n",
       "      <td>4.761905e-02</td>\n",
       "      <td>4.761905e-02</td>\n",
       "      <td>4.761905e-02</td>\n",
       "      <td>4.761905e-02</td>\n",
       "      <td>4.761905e-02</td>\n",
       "      <td>4.761905e-02</td>\n",
       "      <td>4.761905e-02</td>\n",
       "      <td>4.761905e-02</td>\n",
       "    </tr>\n",
       "    <tr>\n",
       "      <th>min</th>\n",
       "      <td>-1.072256e-01</td>\n",
       "      <td>-4.464164e-02</td>\n",
       "      <td>-9.027530e-02</td>\n",
       "      <td>-1.123996e-01</td>\n",
       "      <td>-1.267807e-01</td>\n",
       "      <td>-1.156131e-01</td>\n",
       "      <td>-1.023071e-01</td>\n",
       "      <td>-7.639450e-02</td>\n",
       "      <td>-1.260974e-01</td>\n",
       "      <td>-1.377672e-01</td>\n",
       "    </tr>\n",
       "    <tr>\n",
       "      <th>25%</th>\n",
       "      <td>-3.729927e-02</td>\n",
       "      <td>-4.464164e-02</td>\n",
       "      <td>-3.422907e-02</td>\n",
       "      <td>-3.665645e-02</td>\n",
       "      <td>-3.424784e-02</td>\n",
       "      <td>-3.035840e-02</td>\n",
       "      <td>-3.511716e-02</td>\n",
       "      <td>-3.949338e-02</td>\n",
       "      <td>-3.324879e-02</td>\n",
       "      <td>-3.317903e-02</td>\n",
       "    </tr>\n",
       "    <tr>\n",
       "      <th>50%</th>\n",
       "      <td>5.383060e-03</td>\n",
       "      <td>-4.464164e-02</td>\n",
       "      <td>-7.283766e-03</td>\n",
       "      <td>-5.670611e-03</td>\n",
       "      <td>-4.320866e-03</td>\n",
       "      <td>-3.819065e-03</td>\n",
       "      <td>-6.584468e-03</td>\n",
       "      <td>-2.592262e-03</td>\n",
       "      <td>-1.947634e-03</td>\n",
       "      <td>-1.077698e-03</td>\n",
       "    </tr>\n",
       "    <tr>\n",
       "      <th>75%</th>\n",
       "      <td>3.807591e-02</td>\n",
       "      <td>5.068012e-02</td>\n",
       "      <td>3.124802e-02</td>\n",
       "      <td>3.564384e-02</td>\n",
       "      <td>2.835801e-02</td>\n",
       "      <td>2.984439e-02</td>\n",
       "      <td>2.931150e-02</td>\n",
       "      <td>3.430886e-02</td>\n",
       "      <td>3.243323e-02</td>\n",
       "      <td>2.791705e-02</td>\n",
       "    </tr>\n",
       "    <tr>\n",
       "      <th>max</th>\n",
       "      <td>1.107267e-01</td>\n",
       "      <td>5.068012e-02</td>\n",
       "      <td>1.705552e-01</td>\n",
       "      <td>1.320442e-01</td>\n",
       "      <td>1.539137e-01</td>\n",
       "      <td>1.987880e-01</td>\n",
       "      <td>1.811791e-01</td>\n",
       "      <td>1.852344e-01</td>\n",
       "      <td>1.335990e-01</td>\n",
       "      <td>1.356118e-01</td>\n",
       "    </tr>\n",
       "  </tbody>\n",
       "</table>\n",
       "</div>"
      ],
      "text/plain": [
       "                  0             1             2             3             4  \\\n",
       "count  4.420000e+02  4.420000e+02  4.420000e+02  4.420000e+02  4.420000e+02   \n",
       "mean  -3.634285e-16  1.308343e-16 -8.045349e-16  1.281655e-16 -8.835316e-17   \n",
       "std    4.761905e-02  4.761905e-02  4.761905e-02  4.761905e-02  4.761905e-02   \n",
       "min   -1.072256e-01 -4.464164e-02 -9.027530e-02 -1.123996e-01 -1.267807e-01   \n",
       "25%   -3.729927e-02 -4.464164e-02 -3.422907e-02 -3.665645e-02 -3.424784e-02   \n",
       "50%    5.383060e-03 -4.464164e-02 -7.283766e-03 -5.670611e-03 -4.320866e-03   \n",
       "75%    3.807591e-02  5.068012e-02  3.124802e-02  3.564384e-02  2.835801e-02   \n",
       "max    1.107267e-01  5.068012e-02  1.705552e-01  1.320442e-01  1.539137e-01   \n",
       "\n",
       "                  5             6             7             8             9  \n",
       "count  4.420000e+02  4.420000e+02  4.420000e+02  4.420000e+02  4.420000e+02  \n",
       "mean   1.327024e-16 -4.574646e-16  3.777301e-16 -3.830854e-16 -3.412882e-16  \n",
       "std    4.761905e-02  4.761905e-02  4.761905e-02  4.761905e-02  4.761905e-02  \n",
       "min   -1.156131e-01 -1.023071e-01 -7.639450e-02 -1.260974e-01 -1.377672e-01  \n",
       "25%   -3.035840e-02 -3.511716e-02 -3.949338e-02 -3.324879e-02 -3.317903e-02  \n",
       "50%   -3.819065e-03 -6.584468e-03 -2.592262e-03 -1.947634e-03 -1.077698e-03  \n",
       "75%    2.984439e-02  2.931150e-02  3.430886e-02  3.243323e-02  2.791705e-02  \n",
       "max    1.987880e-01  1.811791e-01  1.852344e-01  1.335990e-01  1.356118e-01  "
      ]
     },
     "execution_count": 19,
     "metadata": {},
     "output_type": "execute_result"
    }
   ],
   "source": [
    "dataset = datasets.load_diabetes()\n",
    "df = pd.DataFrame(data= dataset['data'])\n",
    "df.describe()"
   ]
  },
  {
   "cell_type": "code",
   "execution_count": 20,
   "metadata": {
    "collapsed": true
   },
   "outputs": [],
   "source": [
    "X = dataset.data[:, 0:9]"
   ]
  },
  {
   "cell_type": "markdown",
   "metadata": {},
   "source": [
    "### Standardization "
   ]
  },
  {
   "cell_type": "code",
   "execution_count": 22,
   "metadata": {
    "collapsed": false,
    "scrolled": true
   },
   "outputs": [
    {
     "name": "stdout",
     "output_type": "stream",
     "text": [
      "[[ 0.801  1.065  1.297  0.46  -0.93  -0.732 -0.912 -0.054  0.419]\n",
      " [-0.04  -0.939 -1.082 -0.554 -0.178 -0.403  1.564 -0.83  -1.437]\n",
      " [ 1.793  1.065  0.935 -0.119 -0.959 -0.719 -0.68  -0.054  0.06 ]\n",
      " [-1.872 -0.939 -0.244 -0.771  0.256  0.525 -0.758  0.721  0.477]\n",
      " [ 0.113 -0.939 -0.765  0.46   0.083  0.328  0.171 -0.054 -0.673]]\n",
      "[[ 0.801  1.065  1.297  0.46  -0.93  -0.732 -0.912 -0.054  0.419]\n",
      " [-0.04  -0.939 -1.082 -0.554 -0.178 -0.403  1.564 -0.83  -1.437]\n",
      " [ 1.793  1.065  0.935 -0.119 -0.959 -0.719 -0.68  -0.054  0.06 ]\n",
      " [-1.872 -0.939 -0.244 -0.771  0.256  0.525 -0.758  0.721  0.477]\n",
      " [ 0.113 -0.939 -0.765  0.46   0.083  0.328  0.171 -0.054 -0.673]]\n"
     ]
    }
   ],
   "source": [
    "from sklearn.preprocessing import StandardScaler\n",
    "\n",
    "def standardize_X(X):\n",
    "    X_mean = X.mean(axis=0)\n",
    "    X_std = X.std(axis=0)\n",
    "    X_scaled = (X - X_mean) / X_std\n",
    "    return X_scaled\n",
    "\n",
    "scaler = StandardScaler().fit(X)\n",
    "rescaledX_sk = scaler.transform(X)\n",
    "\n",
    "set_printoptions(precision=3)\n",
    "print(rescaledX_sk[0:5, :])\n",
    "\n",
    "rescaledX = standardize_X(X)\n",
    "\n",
    "set_printoptions(precision=3)\n",
    "print(rescaledX[0:5, :])"
   ]
  },
  {
   "cell_type": "markdown",
   "metadata": {},
   "source": [
    "### Sample Normalization"
   ]
  },
  {
   "cell_type": "code",
   "execution_count": 24,
   "metadata": {
    "collapsed": false
   },
   "outputs": [],
   "source": [
    "from sklearn.preprocessing import Normalizer"
   ]
  },
  {
   "cell_type": "markdown",
   "metadata": {},
   "source": [
    "L1 Norm"
   ]
  },
  {
   "cell_type": "code",
   "execution_count": 25,
   "metadata": {
    "collapsed": false
   },
   "outputs": [
    {
     "name": "stdout",
     "output_type": "stream",
     "text": [
      "[[ 0.12   0.16   0.194  0.069 -0.139 -0.11  -0.137 -0.008  0.063]\n",
      " [-0.006 -0.134 -0.154 -0.079 -0.025 -0.057  0.223 -0.118 -0.204]\n",
      " [ 0.281  0.167  0.146 -0.019 -0.15  -0.113 -0.107 -0.009  0.009]\n",
      " [-0.285 -0.143 -0.037 -0.117  0.039  0.08  -0.115  0.11   0.073]\n",
      " [ 0.032 -0.262 -0.213  0.128  0.023  0.091  0.048 -0.015 -0.188]]\n",
      "[[ 0.12   0.16   0.194  0.069 -0.139 -0.11  -0.137 -0.008  0.063]\n",
      " [-0.006 -0.134 -0.154 -0.079 -0.025 -0.057  0.223 -0.118 -0.204]\n",
      " [ 0.281  0.167  0.146 -0.019 -0.15  -0.113 -0.107 -0.009  0.009]\n",
      " [-0.285 -0.143 -0.037 -0.117  0.039  0.08  -0.115  0.11   0.073]\n",
      " [ 0.032 -0.262 -0.213  0.128  0.023  0.091  0.048 -0.015 -0.188]]\n"
     ]
    }
   ],
   "source": [
    "scaler = Normalizer(norm='l1').fit(X)\n",
    "X_l1_sk = scaler.transform(X)\n",
    "\n",
    "set_printoptions(precision=3)\n",
    "print(X_l1_sk[0:5, :])\n",
    "\n",
    "norms = np.abs(X).sum(axis=1)\n",
    "\n",
    "X_l1_norm = X / norms[:, np.newaxis]\n",
    "print(X_l1_norm[0:5, :])"
   ]
  },
  {
   "cell_type": "markdown",
   "metadata": {},
   "source": [
    "L2 Norm"
   ]
  },
  {
   "cell_type": "code",
   "execution_count": 26,
   "metadata": {
    "collapsed": false
   },
   "outputs": [
    {
     "name": "stdout",
     "output_type": "stream",
     "text": [
      "[[ 0.325  0.432  0.526  0.186 -0.377 -0.297 -0.37  -0.022  0.17 ]\n",
      " [-0.014 -0.337 -0.389 -0.199 -0.064 -0.145  0.562 -0.298 -0.516]\n",
      " [ 0.671  0.399  0.35  -0.045 -0.359 -0.269 -0.255 -0.02   0.023]\n",
      " [-0.723 -0.362 -0.094 -0.298  0.099  0.203 -0.293  0.279  0.184]\n",
      " [ 0.075 -0.62  -0.506  0.304  0.055  0.217  0.113 -0.036 -0.445]]\n",
      "[[ 0.325  0.432  0.526  0.186 -0.377 -0.297 -0.37  -0.022  0.17 ]\n",
      " [-0.014 -0.337 -0.389 -0.199 -0.064 -0.145  0.562 -0.298 -0.516]\n",
      " [ 0.671  0.399  0.35  -0.045 -0.359 -0.269 -0.255 -0.02   0.023]\n",
      " [-0.723 -0.362 -0.094 -0.298  0.099  0.203 -0.293  0.279  0.184]\n",
      " [ 0.075 -0.62  -0.506  0.304  0.055  0.217  0.113 -0.036 -0.445]]\n"
     ]
    }
   ],
   "source": [
    "scaler = Normalizer(norm='l2').fit(X)\n",
    "X_l2_sk = scaler.transform(X)\n",
    "\n",
    "set_printoptions(precision=3)\n",
    "print(X_l2_sk[0:5, :])\n",
    "\n",
    "norms = np.einsum('ij, ij->i', X, X)\n",
    "np.sqrt(norms, norms)\n",
    "\n",
    "X_l2_norm = X / norms[:, np.newaxis]\n",
    "set_printoptions(precision=3)\n",
    "print(X_l2_norm[0:5, :])"
   ]
  },
  {
   "cell_type": "markdown",
   "metadata": {},
   "source": [
    "### Feature Binarization"
   ]
  },
  {
   "cell_type": "code",
   "execution_count": 34,
   "metadata": {
    "collapsed": false
   },
   "outputs": [
    {
     "name": "stdout",
     "output_type": "stream",
     "text": [
      "[[ 1.]\n",
      " [ 0.]\n",
      " [ 1.]\n",
      " [ 0.]\n",
      " [ 1.]]\n",
      "[[ 1.]\n",
      " [ 0.]\n",
      " [ 1.]\n",
      " [ 0.]\n",
      " [ 1.]]\n"
     ]
    }
   ],
   "source": [
    "from sklearn.preprocessing import Binarizer\n",
    "\n",
    "X_bin = dataset.data[:, 0:1]\n",
    "binarizer = Binarizer(threshold=0.0).fit(X_bin)\n",
    "binaryX = binarizer.transform(X_bin)\n",
    "set_printoptions(precision=0)\n",
    "print(binaryX[0:5, :])\n",
    "\n",
    "threshold = 0.0\n",
    "cond = X_bin > threshold\n",
    "not_cond = np.logical_not(cond)\n",
    "X_binarized = X_bin\n",
    "X_binarized[cond] = 1\n",
    "X_binarized[not_cond] = 0\n",
    "set_printoptions(precision=0)\n",
    "print(X_binarized[0:5, :])"
   ]
  },
  {
   "cell_type": "markdown",
   "metadata": {},
   "source": [
    "### Feature MinMax"
   ]
  },
  {
   "cell_type": "code",
   "execution_count": 37,
   "metadata": {
    "collapsed": false
   },
   "outputs": [
    {
     "name": "stdout",
     "output_type": "stream",
     "text": [
      "[[ 1.     1.     0.583  0.549  0.294  0.257  0.208  0.     0.562]\n",
      " [ 0.     0.     0.149  0.352  0.422  0.307  0.623  0.     0.222]\n",
      " [ 1.     1.     0.517  0.437  0.289  0.259  0.247  0.     0.497]\n",
      " [ 0.     0.     0.302  0.31   0.495  0.447  0.234  1.     0.573]\n",
      " [ 1.     0.     0.207  0.549  0.466  0.417  0.39   0.     0.362]]\n",
      "[[ 1.     1.     0.583  0.549  0.294  0.257  0.208  0.     0.562]\n",
      " [ 0.     0.     0.149  0.352  0.422  0.307  0.623  0.     0.222]\n",
      " [ 1.     1.     0.517  0.437  0.289  0.259  0.247  0.     0.497]\n",
      " [ 0.     0.     0.302  0.31   0.495  0.447  0.234  1.     0.573]\n",
      " [ 1.     0.     0.207  0.549  0.466  0.417  0.39   0.     0.362]]\n"
     ]
    }
   ],
   "source": [
    "from sklearn.preprocessing import MinMaxScaler\n",
    "\n",
    "def MinMax(X, MIN, MAX):\n",
    "    X_min = np.min(X, axis=0)\n",
    "    X_max = np.max(X, axis=0)\n",
    "    X_std =  (X - X_min) / (X_max - X_min)   \n",
    "    X_scaled = X_std * (MAX - MIN) + MIN\n",
    "    return X_scaled\n",
    "\n",
    "scaler = MinMaxScaler(feature_range=(0,1))\n",
    "rescaledX_sk = scaler.fit_transform(X)\n",
    "\n",
    "set_printoptions(precision=3)\n",
    "print(rescaledX_sk[0:5, :])\n",
    "\n",
    "rescaledX = MinMax(X, 0.0, 1.0)\n",
    "set_printoptions(precision=3)\n",
    "print(rescaledX[0:5, :])"
   ]
  },
  {
   "cell_type": "code",
   "execution_count": null,
   "metadata": {
    "collapsed": true
   },
   "outputs": [],
   "source": []
  }
 ],
 "metadata": {
  "anaconda-cloud": {},
  "kernelspec": {
   "display_name": "Python [conda env:python3]",
   "language": "python",
   "name": "conda-env-python3-py"
  },
  "language_info": {
   "codemirror_mode": {
    "name": "ipython",
    "version": 3
   },
   "file_extension": ".py",
   "mimetype": "text/x-python",
   "name": "python",
   "nbconvert_exporter": "python",
   "pygments_lexer": "ipython3",
   "version": "3.6.0"
  }
 },
 "nbformat": 4,
 "nbformat_minor": 1
}
